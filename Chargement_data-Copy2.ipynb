{
 "cells": [
  {
   "cell_type": "code",
   "execution_count": 51,
   "metadata": {},
   "outputs": [],
   "source": [
    "import os, re\n",
    "import numpy as np\n",
    "import h5py\n",
    "import pyriemann\n",
    "\n",
    "os.chdir(\"/Users/fadilboodoo/Desktop/Turing/M1/Cours/TER/Dataset/dsp.nosync\")\n",
    "\n",
    "def get_h5(file_dir):\n",
    "    return [os.path.join(file_dir, f)\n",
    "        for f in os.listdir(file_dir)\n",
    "        if os.path.isfile(os.path.join(file_dir, f)) and 'h5' in f]\n",
    "\n",
    "\n",
    "\n",
    "def load_data(data_path, mode = 'single_user', nb_frames = 1000000, channels = 4):\n",
    "    \n",
    "    data_o = []\n",
    "    labels_o = []\n",
    "    return_list = []\n",
    "    \n",
    "    num_channel = channels\n",
    "    if mode == 'cross_user':\n",
    "        sessions = [2,3,5,6,8,9,10,11,12,13]\n",
    "    elif mode == 'single_user':\n",
    "        sessions = [0]\n",
    "\n",
    "\n",
    "    #numpy init\n",
    "    if mode == 'cross_user':\n",
    "        #nb_gestures*nb_sessions*nb_instances*(nb_channels*nb_frames*32*32)\n",
    "        data = np.zeros((11,10,25,num_channel,nb_frames,32,32))\n",
    "        # One label per frame\n",
    "        labels = np.zeros((11,10,25,nb_frames))\n",
    "\n",
    "\n",
    "    #get gestures files\n",
    "    source_files = get_h5(data_path)\n",
    "\n",
    "    for s in source_files:\n",
    "\n",
    "        d = os.path.basename(s).split('_')\n",
    "        gestureID, sessionID, inst = int(d[0]), int(d[1]), int(d[2].split('.')[0])\n",
    "\n",
    "        if sessionID in set(sessions):\n",
    "            #print('Generating', s)\n",
    "            with h5py.File(s, 'r') as f:\n",
    "                lab = f['label'][()]\n",
    "                num_frames = lab.shape[0]\n",
    "                for c in range(num_channel):\n",
    "                    # Data and label are numpy arrays\n",
    "                    data = f['ch{}'.format(c)][()].reshape(num_frames,32,32)\n",
    "                    data_o.append(data)\n",
    "                    labels_o.append(lab)\n",
    "    return_list = [data_o,labels_o]\n",
    "    return(return_list)"
   ]
  },
  {
   "cell_type": "code",
   "execution_count": 52,
   "metadata": {},
   "outputs": [
    {
     "data": {
      "text/plain": [
       "(92, 32, 32)"
      ]
     },
     "execution_count": 52,
     "metadata": {},
     "output_type": "execute_result"
    }
   ],
   "source": [
    "Dataset_0 = load_data(\"/Users/fadilboodoo/Desktop/Turing/M1/Cours/TER/Dataset/dsp.nosync\")\n",
    "Dataset_0[0][0].shape"
   ]
  },
  {
   "cell_type": "code",
   "execution_count": 143,
   "metadata": {},
   "outputs": [
    {
     "data": {
      "text/plain": [
       "(92, 32, 32)"
      ]
     },
     "execution_count": 143,
     "metadata": {},
     "output_type": "execute_result"
    }
   ],
   "source": [
    "import pyriemann\n",
    "matrice_conv = pyriemann.estimation.Covariances('oas').fit_transform(Dataset_0[0][0])\n",
    "matrice_conv.shape"
   ]
  },
  {
   "cell_type": "code",
   "execution_count": 144,
   "metadata": {},
   "outputs": [
    {
     "data": {
      "text/plain": [
       "(32, 32)"
      ]
     },
     "execution_count": 144,
     "metadata": {},
     "output_type": "execute_result"
    }
   ],
   "source": [
    "matrice_moy_cov = pyriemann.utils.mean.mean_covariance(matrice_conv)\n",
    "matrice_moy_cov\n",
    "matrice_moy_cov.shape"
   ]
  },
  {
   "cell_type": "code",
   "execution_count": 53,
   "metadata": {},
   "outputs": [],
   "source": [
    "nbr_sequences = len(Dataset_0[0])\n",
    "features = []\n",
    "labels = []\n",
    "\n",
    "\n",
    "for k in range (0, nbr_sequences):\n",
    "    NT = Dataset_0[0][0].shape[0]\n",
    "    matrice_conc = Dataset_0[0][0][0]\n",
    "\n",
    "    for i in range(1, NT):\n",
    "        matrice_conc = np.concatenate((matrice_conc, Dataset_0[0][0][1]), axis=0, out=None)\n",
    "        \n",
    "    matrice_conv = pyriemann.estimation.Covariances('oas').fit_transform(Dataset_0[0][k])\n",
    "    matrice_moy_cov = pyriemann.utils.mean.mean_covariance(matrice_conv)\n",
    "    \n",
    "    features.append(matrice_moy_cov)\n",
    "    labels.append(Dataset_0[1][k][0][0])    "
   ]
  },
  {
   "cell_type": "code",
   "execution_count": 66,
   "metadata": {},
   "outputs": [
    {
     "data": {
      "text/plain": [
       "(32, 32)"
      ]
     },
     "execution_count": 66,
     "metadata": {},
     "output_type": "execute_result"
    }
   ],
   "source": [
    "features[0].shape"
   ]
  },
  {
   "cell_type": "code",
   "execution_count": 59,
   "metadata": {},
   "outputs": [
    {
     "data": {
      "text/plain": [
       "1"
      ]
     },
     "execution_count": 59,
     "metadata": {},
     "output_type": "execute_result"
    }
   ],
   "source": [
    "labels[0]"
   ]
  }
 ],
 "metadata": {
  "kernelspec": {
   "display_name": "Python 3",
   "language": "python",
   "name": "python3"
  },
  "language_info": {
   "codemirror_mode": {
    "name": "ipython",
    "version": 3
   },
   "file_extension": ".py",
   "mimetype": "text/x-python",
   "name": "python",
   "nbconvert_exporter": "python",
   "pygments_lexer": "ipython3",
   "version": "3.7.6"
  }
 },
 "nbformat": 4,
 "nbformat_minor": 4
}
