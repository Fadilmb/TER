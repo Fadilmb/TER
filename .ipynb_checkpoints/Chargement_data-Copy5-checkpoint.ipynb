{
 "cells": [
  {
   "cell_type": "code",
   "execution_count": 5,
   "metadata": {},
   "outputs": [],
   "source": [
    "import os, re\n",
    "import numpy as np\n",
    "import h5py\n",
    "import pyriemann\n",
    "from matplotlib import pyplot as plt\n",
    "\n",
    "os.chdir(\"/Users/fadilboodoo/Desktop/Turing/M1/Cours/TER/Dataset/dsp.nosync\")\n",
    "\n",
    "def get_h5(file_dir):\n",
    "    return [os.path.join(file_dir, f)\n",
    "        for f in os.listdir(file_dir)\n",
    "        if os.path.isfile(os.path.join(file_dir, f)) and 'h5' in f]\n",
    "\n",
    "\n",
    "\n",
    "def load_data(data_path, mode = 'single_user', nb_frames = 1000000, channels = 4):\n",
    "    \n",
    "    data_o = []\n",
    "    labels_o = []\n",
    "    return_list = []\n",
    "    \n",
    "    num_channel = channels\n",
    "    if mode == 'cross_user':\n",
    "        sessions = [2,3,5,6,8,9,10,11,12,13]\n",
    "    elif mode == 'single_user':\n",
    "        sessions = [0]\n",
    "\n",
    "\n",
    "    #numpy init\n",
    "    if mode == 'cross_user':\n",
    "        #nb_gestures*nb_sessions*nb_instances*(nb_channels*nb_frames*32*32)\n",
    "        data = np.zeros((11,10,25,num_channel,nb_frames,32,32))\n",
    "        # One label per frame\n",
    "        labels = np.zeros((11,10,25,nb_frames))\n",
    "\n",
    "\n",
    "    #get gestures files\n",
    "    source_files = get_h5(data_path)\n",
    "\n",
    "    for s in source_files:\n",
    "\n",
    "        d = os.path.basename(s).split('_')\n",
    "        gestureID, sessionID, inst = int(d[0]), int(d[1]), int(d[2].split('.')[0])\n",
    "\n",
    "        if sessionID in set(sessions):\n",
    "            #print('Generating', s)\n",
    "            with h5py.File(s, 'r') as f:\n",
    "                lab = f['label'][()]\n",
    "                num_frames = lab.shape[0]\n",
    "                for c in range(num_channel):\n",
    "                    # Data and label are numpy arrays\n",
    "                    data = f['ch{}'.format(c)][()].reshape(num_frames,32,32)\n",
    "                    data_o.append(data)\n",
    "                    labels_o.append(lab)\n",
    "    return_list = [data_o,labels_o]\n",
    "    return(return_list)"
   ]
  },
  {
   "cell_type": "code",
   "execution_count": 6,
   "metadata": {},
   "outputs": [],
   "source": [
    "Dataset_0 = load_data(\"/Users/fadilboodoo/Desktop/Turing/M1/Cours/TER/Dataset/dsp.nosync\")"
   ]
  },
  {
   "cell_type": "code",
   "execution_count": 181,
   "metadata": {},
   "outputs": [],
   "source": [
    "#nbr_sequences = len(Dataset_0[0])\n",
    "nbr_sequences = 1000\n",
    "Nf = len(Dataset_0[0][0][0][0])\n",
    "\n",
    "features = np.zeros((nbr_sequences,Nf,Nf))\n",
    "labels = np.zeros(nbr_sequences)\n",
    "\n",
    "\n",
    "for k in range (0, nbr_sequences):\n",
    "    NT = Dataset_0[0][0].shape[0]\n",
    "    matrice_conc = Dataset_0[0][0][0]\n",
    "\n",
    "    #for i in range (1, NT):\n",
    "    #    matrice_conc = np.concatenate((matrice_conc, Dataset_0[0][0][i]), axis=0, out=None)\n",
    "        \n",
    "    matrice_conv = pyriemann.estimation.Covariances('oas').transform(Dataset_0[0][k])\n",
    "    matrice_moy_cov = pyriemann.utils.mean.mean_covariance(matrice_conv)\n",
    "    \n",
    "    features[k] = matrice_moy_cov\n",
    "    labels[k] = Dataset_0[1][k][0]"
   ]
  },
  {
   "cell_type": "code",
   "execution_count": 182,
   "metadata": {},
   "outputs": [
    {
     "data": {
      "text/plain": [
       "0.082"
      ]
     },
     "execution_count": 182,
     "metadata": {},
     "output_type": "execute_result"
    }
   ],
   "source": [
    "nbr_clusters = len(set(labels[0:nbr_sequences]))\n",
    "Kmean = pyriemann.clustering.Kmeans(nbr_clusters).fit(features)\n",
    "result = Kmean.score(features,labels)\n",
    "result"
   ]
  },
  {
   "cell_type": "code",
   "execution_count": 184,
   "metadata": {},
   "outputs": [
    {
     "data": {
      "text/plain": [
       "(32, 32)"
      ]
     },
     "execution_count": 184,
     "metadata": {},
     "output_type": "execute_result"
    }
   ],
   "source": [
    "feature0.shape"
   ]
  },
  {
   "cell_type": "code",
   "execution_count": 197,
   "metadata": {},
   "outputs": [],
   "source": [
    "f = np.array(1)"
   ]
  },
  {
   "cell_type": "code",
   "execution_count": 202,
   "metadata": {},
   "outputs": [
    {
     "ename": "ValueError",
     "evalue": "could not broadcast input array from shape (32,32) into shape (32)",
     "output_type": "error",
     "traceback": [
      "\u001b[0;31m---------------------------------------------------------------------------\u001b[0m",
      "\u001b[0;31mValueError\u001b[0m                                Traceback (most recent call last)",
      "\u001b[0;32m<ipython-input-202-7c60be83a4e7>\u001b[0m in \u001b[0;36m<module>\u001b[0;34m\u001b[0m\n\u001b[0;32m----> 1\u001b[0;31m \u001b[0mnp\u001b[0m\u001b[0;34m.\u001b[0m\u001b[0minsert\u001b[0m\u001b[0;34m(\u001b[0m\u001b[0mf\u001b[0m\u001b[0;34m,\u001b[0m\u001b[0;36m1\u001b[0m\u001b[0;34m,\u001b[0m\u001b[0mfeature0\u001b[0m\u001b[0;34m)\u001b[0m\u001b[0;34m\u001b[0m\u001b[0;34m\u001b[0m\u001b[0m\n\u001b[0m",
      "\u001b[0;32m<__array_function__ internals>\u001b[0m in \u001b[0;36minsert\u001b[0;34m(*args, **kwargs)\u001b[0m\n",
      "\u001b[0;32m~/opt/anaconda3/lib/python3.7/site-packages/numpy/lib/function_base.py\u001b[0m in \u001b[0;36minsert\u001b[0;34m(arr, obj, values, axis)\u001b[0m\n\u001b[1;32m   4593\u001b[0m         \u001b[0mnew\u001b[0m\u001b[0;34m[\u001b[0m\u001b[0mtuple\u001b[0m\u001b[0;34m(\u001b[0m\u001b[0mslobj\u001b[0m\u001b[0;34m)\u001b[0m\u001b[0;34m]\u001b[0m \u001b[0;34m=\u001b[0m \u001b[0marr\u001b[0m\u001b[0;34m[\u001b[0m\u001b[0mtuple\u001b[0m\u001b[0;34m(\u001b[0m\u001b[0mslobj\u001b[0m\u001b[0;34m)\u001b[0m\u001b[0;34m]\u001b[0m\u001b[0;34m\u001b[0m\u001b[0;34m\u001b[0m\u001b[0m\n\u001b[1;32m   4594\u001b[0m         \u001b[0mslobj\u001b[0m\u001b[0;34m[\u001b[0m\u001b[0maxis\u001b[0m\u001b[0;34m]\u001b[0m \u001b[0;34m=\u001b[0m \u001b[0mslice\u001b[0m\u001b[0;34m(\u001b[0m\u001b[0mindex\u001b[0m\u001b[0;34m,\u001b[0m \u001b[0mindex\u001b[0m\u001b[0;34m+\u001b[0m\u001b[0mnumnew\u001b[0m\u001b[0;34m)\u001b[0m\u001b[0;34m\u001b[0m\u001b[0;34m\u001b[0m\u001b[0m\n\u001b[0;32m-> 4595\u001b[0;31m         \u001b[0mnew\u001b[0m\u001b[0;34m[\u001b[0m\u001b[0mtuple\u001b[0m\u001b[0;34m(\u001b[0m\u001b[0mslobj\u001b[0m\u001b[0;34m)\u001b[0m\u001b[0;34m]\u001b[0m \u001b[0;34m=\u001b[0m \u001b[0mvalues\u001b[0m\u001b[0;34m\u001b[0m\u001b[0;34m\u001b[0m\u001b[0m\n\u001b[0m\u001b[1;32m   4596\u001b[0m         \u001b[0mslobj\u001b[0m\u001b[0;34m[\u001b[0m\u001b[0maxis\u001b[0m\u001b[0;34m]\u001b[0m \u001b[0;34m=\u001b[0m \u001b[0mslice\u001b[0m\u001b[0;34m(\u001b[0m\u001b[0mindex\u001b[0m\u001b[0;34m+\u001b[0m\u001b[0mnumnew\u001b[0m\u001b[0;34m,\u001b[0m \u001b[0;32mNone\u001b[0m\u001b[0;34m)\u001b[0m\u001b[0;34m\u001b[0m\u001b[0;34m\u001b[0m\u001b[0m\n\u001b[1;32m   4597\u001b[0m         \u001b[0mslobj2\u001b[0m \u001b[0;34m=\u001b[0m \u001b[0;34m[\u001b[0m\u001b[0mslice\u001b[0m\u001b[0;34m(\u001b[0m\u001b[0;32mNone\u001b[0m\u001b[0;34m)\u001b[0m\u001b[0;34m]\u001b[0m \u001b[0;34m*\u001b[0m \u001b[0mndim\u001b[0m\u001b[0;34m\u001b[0m\u001b[0;34m\u001b[0m\u001b[0m\n",
      "\u001b[0;31mValueError\u001b[0m: could not broadcast input array from shape (32,32) into shape (32)"
     ]
    }
   ],
   "source": [
    "np.insert(f,1,feature0)"
   ]
  },
  {
   "cell_type": "code",
   "execution_count": null,
   "metadata": {},
   "outputs": [],
   "source": []
  }
 ],
 "metadata": {
  "kernelspec": {
   "display_name": "Python 3",
   "language": "python",
   "name": "python3"
  },
  "language_info": {
   "codemirror_mode": {
    "name": "ipython",
    "version": 3
   },
   "file_extension": ".py",
   "mimetype": "text/x-python",
   "name": "python",
   "nbconvert_exporter": "python",
   "pygments_lexer": "ipython3",
   "version": "3.7.6"
  }
 },
 "nbformat": 4,
 "nbformat_minor": 4
}
